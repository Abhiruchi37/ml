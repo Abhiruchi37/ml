{
 "cells": [
  {
   "cell_type": "code",
   "execution_count": 1,
   "id": "db72b689",
   "metadata": {},
   "outputs": [],
   "source": [
    "import pandas as pd\n",
    "import numpy as np\n",
    "import matplotlib.pyplot as plt\n",
    "import seaborn as sns\n",
    "\n",
    "%matplotlib inline\n",
    "sns.set_style(\"whitegrid\")\n",
    "plt.style.use(\"fivethirtyeight\")"
   ]
  },
  {
   "cell_type": "code",
   "execution_count": 44,
   "id": "40a1d97d",
   "metadata": {},
   "outputs": [
    {
     "data": {
      "text/html": [
       "<div>\n",
       "<style scoped>\n",
       "    .dataframe tbody tr th:only-of-type {\n",
       "        vertical-align: middle;\n",
       "    }\n",
       "\n",
       "    .dataframe tbody tr th {\n",
       "        vertical-align: top;\n",
       "    }\n",
       "\n",
       "    .dataframe thead th {\n",
       "        text-align: right;\n",
       "    }\n",
       "</style>\n",
       "<table border=\"1\" class=\"dataframe\">\n",
       "  <thead>\n",
       "    <tr style=\"text-align: right;\">\n",
       "      <th></th>\n",
       "      <th>age</th>\n",
       "      <th>job</th>\n",
       "      <th>marital</th>\n",
       "      <th>education</th>\n",
       "      <th>housing</th>\n",
       "      <th>loan</th>\n",
       "      <th>month</th>\n",
       "      <th>day_of_week</th>\n",
       "      <th>duration</th>\n",
       "      <th>previous</th>\n",
       "    </tr>\n",
       "  </thead>\n",
       "  <tbody>\n",
       "    <tr>\n",
       "      <th>0</th>\n",
       "      <td>56</td>\n",
       "      <td>housemaid</td>\n",
       "      <td>married</td>\n",
       "      <td>basic.4y</td>\n",
       "      <td>no</td>\n",
       "      <td>no</td>\n",
       "      <td>may</td>\n",
       "      <td>mon</td>\n",
       "      <td>261</td>\n",
       "      <td>0</td>\n",
       "    </tr>\n",
       "    <tr>\n",
       "      <th>1</th>\n",
       "      <td>57</td>\n",
       "      <td>services</td>\n",
       "      <td>married</td>\n",
       "      <td>high.school</td>\n",
       "      <td>no</td>\n",
       "      <td>no</td>\n",
       "      <td>may</td>\n",
       "      <td>mon</td>\n",
       "      <td>149</td>\n",
       "      <td>0</td>\n",
       "    </tr>\n",
       "    <tr>\n",
       "      <th>2</th>\n",
       "      <td>37</td>\n",
       "      <td>services</td>\n",
       "      <td>married</td>\n",
       "      <td>high.school</td>\n",
       "      <td>yes</td>\n",
       "      <td>no</td>\n",
       "      <td>may</td>\n",
       "      <td>mon</td>\n",
       "      <td>226</td>\n",
       "      <td>0</td>\n",
       "    </tr>\n",
       "    <tr>\n",
       "      <th>3</th>\n",
       "      <td>40</td>\n",
       "      <td>admin.</td>\n",
       "      <td>married</td>\n",
       "      <td>basic.6y</td>\n",
       "      <td>no</td>\n",
       "      <td>no</td>\n",
       "      <td>may</td>\n",
       "      <td>mon</td>\n",
       "      <td>151</td>\n",
       "      <td>0</td>\n",
       "    </tr>\n",
       "    <tr>\n",
       "      <th>4</th>\n",
       "      <td>56</td>\n",
       "      <td>services</td>\n",
       "      <td>married</td>\n",
       "      <td>high.school</td>\n",
       "      <td>no</td>\n",
       "      <td>yes</td>\n",
       "      <td>may</td>\n",
       "      <td>mon</td>\n",
       "      <td>307</td>\n",
       "      <td>0</td>\n",
       "    </tr>\n",
       "  </tbody>\n",
       "</table>\n",
       "</div>"
      ],
      "text/plain": [
       "   age        job  marital    education housing loan month day_of_week  \\\n",
       "0   56  housemaid  married     basic.4y      no   no   may         mon   \n",
       "1   57   services  married  high.school      no   no   may         mon   \n",
       "2   37   services  married  high.school     yes   no   may         mon   \n",
       "3   40     admin.  married     basic.6y      no   no   may         mon   \n",
       "4   56   services  married  high.school      no  yes   may         mon   \n",
       "\n",
       "   duration  previous  \n",
       "0       261         0  \n",
       "1       149         0  \n",
       "2       226         0  \n",
       "3       151         0  \n",
       "4       307         0  "
      ]
     },
     "execution_count": 44,
     "metadata": {},
     "output_type": "execute_result"
    }
   ],
   "source": [
    "df = pd.read_csv(\"bm.csv\")\n",
    "df.head()"
   ]
  },
  {
   "cell_type": "code",
   "execution_count": 45,
   "id": "afc634fc",
   "metadata": {},
   "outputs": [
    {
     "name": "stdout",
     "output_type": "stream",
     "text": [
      "<class 'pandas.core.frame.DataFrame'>\n",
      "RangeIndex: 41188 entries, 0 to 41187\n",
      "Data columns (total 10 columns):\n",
      " #   Column       Non-Null Count  Dtype \n",
      "---  ------       --------------  ----- \n",
      " 0   age          41188 non-null  int64 \n",
      " 1   job          41188 non-null  object\n",
      " 2   marital      41188 non-null  object\n",
      " 3   education    41188 non-null  object\n",
      " 4   housing      41188 non-null  object\n",
      " 5   loan         41188 non-null  object\n",
      " 6   month        41188 non-null  object\n",
      " 7   day_of_week  41188 non-null  object\n",
      " 8   duration     41188 non-null  int64 \n",
      " 9   previous     41188 non-null  int64 \n",
      "dtypes: int64(3), object(7)\n",
      "memory usage: 3.1+ MB\n"
     ]
    }
   ],
   "source": [
    "df.info()"
   ]
  },
  {
   "cell_type": "code",
   "execution_count": 46,
   "id": "557bc24f",
   "metadata": {},
   "outputs": [
    {
     "data": {
      "text/plain": [
       "age            0\n",
       "job            0\n",
       "marital        0\n",
       "education      0\n",
       "housing        0\n",
       "loan           0\n",
       "month          0\n",
       "day_of_week    0\n",
       "duration       0\n",
       "previous       0\n",
       "dtype: int64"
      ]
     },
     "execution_count": 46,
     "metadata": {},
     "output_type": "execute_result"
    }
   ],
   "source": [
    "df.isnull().sum()"
   ]
  },
  {
   "cell_type": "code",
   "execution_count": 47,
   "id": "44c0f1a2",
   "metadata": {},
   "outputs": [
    {
     "data": {
      "text/html": [
       "<div>\n",
       "<style scoped>\n",
       "    .dataframe tbody tr th:only-of-type {\n",
       "        vertical-align: middle;\n",
       "    }\n",
       "\n",
       "    .dataframe tbody tr th {\n",
       "        vertical-align: top;\n",
       "    }\n",
       "\n",
       "    .dataframe thead th {\n",
       "        text-align: right;\n",
       "    }\n",
       "</style>\n",
       "<table border=\"1\" class=\"dataframe\">\n",
       "  <thead>\n",
       "    <tr style=\"text-align: right;\">\n",
       "      <th></th>\n",
       "      <th>age</th>\n",
       "      <th>duration</th>\n",
       "      <th>previous</th>\n",
       "    </tr>\n",
       "  </thead>\n",
       "  <tbody>\n",
       "    <tr>\n",
       "      <th>count</th>\n",
       "      <td>41188.00</td>\n",
       "      <td>41188.00</td>\n",
       "      <td>41188.00</td>\n",
       "    </tr>\n",
       "    <tr>\n",
       "      <th>mean</th>\n",
       "      <td>40.02</td>\n",
       "      <td>258.29</td>\n",
       "      <td>0.17</td>\n",
       "    </tr>\n",
       "    <tr>\n",
       "      <th>std</th>\n",
       "      <td>10.43</td>\n",
       "      <td>259.28</td>\n",
       "      <td>0.49</td>\n",
       "    </tr>\n",
       "    <tr>\n",
       "      <th>min</th>\n",
       "      <td>0.00</td>\n",
       "      <td>0.00</td>\n",
       "      <td>0.00</td>\n",
       "    </tr>\n",
       "    <tr>\n",
       "      <th>25%</th>\n",
       "      <td>32.00</td>\n",
       "      <td>102.00</td>\n",
       "      <td>0.00</td>\n",
       "    </tr>\n",
       "    <tr>\n",
       "      <th>50%</th>\n",
       "      <td>38.00</td>\n",
       "      <td>180.00</td>\n",
       "      <td>0.00</td>\n",
       "    </tr>\n",
       "    <tr>\n",
       "      <th>75%</th>\n",
       "      <td>47.00</td>\n",
       "      <td>319.00</td>\n",
       "      <td>0.00</td>\n",
       "    </tr>\n",
       "    <tr>\n",
       "      <th>max</th>\n",
       "      <td>98.00</td>\n",
       "      <td>4918.00</td>\n",
       "      <td>7.00</td>\n",
       "    </tr>\n",
       "  </tbody>\n",
       "</table>\n",
       "</div>"
      ],
      "text/plain": [
       "           age  duration  previous\n",
       "count 41188.00  41188.00  41188.00\n",
       "mean     40.02    258.29      0.17\n",
       "std      10.43    259.28      0.49\n",
       "min       0.00      0.00      0.00\n",
       "25%      32.00    102.00      0.00\n",
       "50%      38.00    180.00      0.00\n",
       "75%      47.00    319.00      0.00\n",
       "max      98.00   4918.00      7.00"
      ]
     },
     "execution_count": 47,
     "metadata": {},
     "output_type": "execute_result"
    }
   ],
   "source": [
    "pd.set_option('display.float_format', '{:.2f}'.format)\n",
    "df.describe()"
   ]
  },
  {
   "cell_type": "code",
   "execution_count": 48,
   "id": "6bf23698",
   "metadata": {},
   "outputs": [],
   "source": [
    "categorical_val = []\n",
    "continous_val = []\n",
    "for column in df.columns:\n",
    "#     print('==============================')\n",
    "#     print(f\"{column} : {df[column].unique()}\")\n",
    "    if len(df[column].unique()) <= 10:\n",
    "        categorical_val.append(column)\n",
    "    else:\n",
    "        continous_val.append(column)"
   ]
  },
  {
   "cell_type": "code",
   "execution_count": 49,
   "id": "b02f8246",
   "metadata": {},
   "outputs": [
    {
     "data": {
      "text/plain": [
       "Index(['age', 'job', 'marital', 'education', 'housing', 'loan', 'month',\n",
       "       'day_of_week', 'duration', 'previous'],\n",
       "      dtype='object')"
      ]
     },
     "execution_count": 49,
     "metadata": {},
     "output_type": "execute_result"
    }
   ],
   "source": [
    "df.columns"
   ]
  },
  {
   "cell_type": "code",
   "execution_count": 50,
   "id": "101e7295",
   "metadata": {},
   "outputs": [
    {
     "name": "stdout",
     "output_type": "stream",
     "text": [
      "============================================\n",
      "age ==> Missing zeros : 5\n",
      "============================================\n",
      "duration ==> Missing zeros : 4\n"
     ]
    }
   ],
   "source": [
    "# How many missing zeros are mising in each feature\n",
    "feature_columns = ['age','duration']\n",
    "for column in feature_columns:\n",
    "    print(\"============================================\")\n",
    "    print(f\"{column} ==> Missing zeros : {len(df.loc[df[column] == 0])}\")"
   ]
  },
  {
   "cell_type": "code",
   "execution_count": 51,
   "id": "64be053b",
   "metadata": {},
   "outputs": [],
   "source": [
    "from sklearn.impute import SimpleImputer\n",
    "\n",
    "fill_values = SimpleImputer(missing_values=0, strategy=\"mean\", copy=False)\n",
    "\n",
    "df[feature_columns] = fill_values.fit_transform(df[feature_columns])"
   ]
  },
  {
   "cell_type": "code",
   "execution_count": 52,
   "id": "55dd0b53",
   "metadata": {},
   "outputs": [
    {
     "name": "stdout",
     "output_type": "stream",
     "text": [
      "============================================\n",
      "age ==> Missing zeros : 0\n",
      "============================================\n",
      "duration ==> Missing zeros : 0\n"
     ]
    }
   ],
   "source": [
    "for column in feature_columns:\n",
    "    print(\"============================================\")\n",
    "    print(f\"{column} ==> Missing zeros : {len(df.loc[df[column] == 0])}\")"
   ]
  },
  {
   "cell_type": "code",
   "execution_count": 53,
   "id": "ed679d5b",
   "metadata": {},
   "outputs": [],
   "source": [
    "from sklearn.model_selection import train_test_split\n",
    "\n",
    "\n",
    "X = df[feature_columns]\n",
    "y = df.previous\n",
    "\n",
    "X_train, X_test, y_train, y_test = train_test_split(X, y, test_size=0.3, random_state=42)"
   ]
  },
  {
   "cell_type": "code",
   "execution_count": 54,
   "id": "29205a84",
   "metadata": {},
   "outputs": [],
   "source": [
    "from sklearn.metrics import confusion_matrix, accuracy_score, classification_report\n",
    "\n",
    "\n",
    "def evaluate(model, X_train, X_test, y_train, y_test):\n",
    "    y_test_pred = model.predict(X_test)\n",
    "    y_train_pred = model.predict(X_train)\n",
    "\n",
    "    print(\"TRAINIG RESULTS: \\n===============================\")\n",
    "    clf_report = pd.DataFrame(classification_report(y_train, y_train_pred, output_dict=True))\n",
    "    print(f\"CONFUSION MATRIX:\\n{confusion_matrix(y_train, y_train_pred)}\")\n",
    "    print(f\"ACCURACY SCORE:\\n{accuracy_score(y_train, y_train_pred):.4f}\")\n",
    "    print(f\"CLASSIFICATION REPORT:\\n{clf_report}\")\n",
    "\n",
    "    print(\"TESTING RESULTS: \\n===============================\")\n",
    "    clf_report = pd.DataFrame(classification_report(y_test, y_test_pred, output_dict=True))\n",
    "    print(f\"CONFUSION MATRIX:\\n{confusion_matrix(y_test, y_test_pred)}\")\n",
    "    print(f\"ACCURACY SCORE:\\n{accuracy_score(y_test, y_test_pred):.4f}\")\n",
    "    print(f\"CLASSIFICATION REPORT:\\n{clf_report}\")"
   ]
  },
  {
   "cell_type": "code",
   "execution_count": 55,
   "id": "159ce4d2",
   "metadata": {},
   "outputs": [
    {
     "name": "stdout",
     "output_type": "stream",
     "text": [
      "TRAINIG RESULTS: \n",
      "===============================\n",
      "CONFUSION MATRIX:\n",
      "[[24796   109     2     0     0     0     0     0]\n",
      " [ 1829  1339     4     2     0     0     0     0]\n",
      " [  267    14   249     1     0     0     0     0]\n",
      " [   73     5     2    76     1     0     0     0]\n",
      " [   23     1     0     0    22     0     0     0]\n",
      " [    5     1     0     0     0     6     0     0]\n",
      " [    1     0     0     0     0     0     2     0]\n",
      " [    0     0     0     0     0     0     0     1]]\n",
      "ACCURACY SCORE:\n",
      "0.9188\n",
      "CLASSIFICATION REPORT:\n",
      "                 0       1      2      3     4     5    6    7  accuracy  \\\n",
      "precision     0.92    0.91   0.97   0.96  0.96  1.00 1.00 1.00      0.92   \n",
      "recall        1.00    0.42   0.47   0.48  0.48  0.50 0.67 1.00      0.92   \n",
      "f1-score      0.96    0.58   0.63   0.64  0.64  0.67 0.80 1.00      0.92   \n",
      "support   24907.00 3174.00 531.00 157.00 46.00 12.00 3.00 1.00      0.92   \n",
      "\n",
      "           macro avg  weighted avg  \n",
      "precision       0.96          0.92  \n",
      "recall          0.63          0.92  \n",
      "f1-score        0.74          0.91  \n",
      "support     28831.00      28831.00  \n",
      "TESTING RESULTS: \n",
      "===============================\n",
      "CONFUSION MATRIX:\n",
      "[[10024   523    73    24    11     1     0]\n",
      " [ 1297    75    13     2     0     0     0]\n",
      " [  195    23     5     0     0     0     0]\n",
      " [   55     3     1     0     0     0     0]\n",
      " [   22     1     1     0     0     0     0]\n",
      " [    6     0     0     0     0     0     0]\n",
      " [    1     1     0     0     0     0     0]]\n",
      "ACCURACY SCORE:\n",
      "0.8177\n",
      "CLASSIFICATION REPORT:\n",
      "                 0       1      2     3     4    5    6  accuracy  macro avg  \\\n",
      "precision     0.86    0.12   0.05  0.00  0.00 0.00 0.00      0.82       0.15   \n",
      "recall        0.94    0.05   0.02  0.00  0.00 0.00 0.00      0.82       0.15   \n",
      "f1-score      0.90    0.07   0.03  0.00  0.00 0.00 0.00      0.82       0.14   \n",
      "support   10656.00 1387.00 223.00 59.00 24.00 6.00 2.00      0.82   12357.00   \n",
      "\n",
      "           weighted avg  \n",
      "precision          0.76  \n",
      "recall             0.82  \n",
      "f1-score           0.79  \n",
      "support        12357.00  \n"
     ]
    },
    {
     "name": "stderr",
     "output_type": "stream",
     "text": [
      "C:\\Users\\Abhiruchi\\AppData\\Local\\Programs\\Python\\Python39\\lib\\site-packages\\sklearn\\metrics\\_classification.py:1318: UndefinedMetricWarning: Precision and F-score are ill-defined and being set to 0.0 in labels with no predicted samples. Use `zero_division` parameter to control this behavior.\n",
      "  _warn_prf(average, modifier, msg_start, len(result))\n",
      "C:\\Users\\Abhiruchi\\AppData\\Local\\Programs\\Python\\Python39\\lib\\site-packages\\sklearn\\metrics\\_classification.py:1318: UndefinedMetricWarning: Precision and F-score are ill-defined and being set to 0.0 in labels with no predicted samples. Use `zero_division` parameter to control this behavior.\n",
      "  _warn_prf(average, modifier, msg_start, len(result))\n",
      "C:\\Users\\Abhiruchi\\AppData\\Local\\Programs\\Python\\Python39\\lib\\site-packages\\sklearn\\metrics\\_classification.py:1318: UndefinedMetricWarning: Precision and F-score are ill-defined and being set to 0.0 in labels with no predicted samples. Use `zero_division` parameter to control this behavior.\n",
      "  _warn_prf(average, modifier, msg_start, len(result))\n"
     ]
    }
   ],
   "source": [
    "from sklearn.ensemble import BaggingClassifier\n",
    "from sklearn.tree import DecisionTreeClassifier\n",
    "\n",
    "tree = DecisionTreeClassifier()\n",
    "bagging_clf = BaggingClassifier(base_estimator=tree, n_estimators=1500, random_state=42)\n",
    "bagging_clf.fit(X_train, y_train)\n",
    "\n",
    "evaluate(bagging_clf, X_train, X_test, y_train, y_test)"
   ]
  },
  {
   "cell_type": "code",
   "execution_count": 56,
   "id": "97e80923",
   "metadata": {},
   "outputs": [],
   "source": [
    "scores = {\n",
    "    'Bagging Classifier': {\n",
    "        'Train': accuracy_score(y_train, bagging_clf.predict(X_train)),\n",
    "        'Test': accuracy_score(y_test, bagging_clf.predict(X_test)),\n",
    "    },\n",
    "}"
   ]
  },
  {
   "cell_type": "code",
   "execution_count": 58,
   "id": "5edc900f",
   "metadata": {},
   "outputs": [
    {
     "name": "stdout",
     "output_type": "stream",
     "text": [
      "TRAINIG RESULTS: \n",
      "===============================\n",
      "CONFUSION MATRIX:\n",
      "[[24790   114     3     0     0     0     0     0]\n",
      " [ 1824  1344     4     2     0     0     0     0]\n",
      " [  264    16   250     1     0     0     0     0]\n",
      " [   74     4     2    77     0     0     0     0]\n",
      " [   23     1     0     1    21     0     0     0]\n",
      " [    5     1     0     0     0     6     0     0]\n",
      " [    1     0     0     0     0     0     2     0]\n",
      " [    0     0     0     0     0     0     0     1]]\n",
      "ACCURACY SCORE:\n",
      "0.9188\n",
      "CLASSIFICATION REPORT:\n",
      "                 0       1      2      3     4     5    6    7  accuracy  \\\n",
      "precision     0.92    0.91   0.97   0.95  1.00  1.00 1.00 1.00      0.92   \n",
      "recall        1.00    0.42   0.47   0.49  0.46  0.50 0.67 1.00      0.92   \n",
      "f1-score      0.96    0.58   0.63   0.65  0.63  0.67 0.80 1.00      0.92   \n",
      "support   24907.00 3174.00 531.00 157.00 46.00 12.00 3.00 1.00      0.92   \n",
      "\n",
      "           macro avg  weighted avg  \n",
      "precision       0.97          0.92  \n",
      "recall          0.63          0.92  \n",
      "f1-score        0.74          0.91  \n",
      "support     28831.00      28831.00  \n",
      "TESTING RESULTS: \n",
      "===============================\n",
      "CONFUSION MATRIX:\n",
      "[[9941  582   90   26   14    2    1]\n",
      " [1277   83   24    2    1    0    0]\n",
      " [ 192   24    6    1    0    0    0]\n",
      " [  55    3    1    0    0    0    0]\n",
      " [  22    1    1    0    0    0    0]\n",
      " [   6    0    0    0    0    0    0]\n",
      " [   1    1    0    0    0    0    0]]\n",
      "ACCURACY SCORE:\n",
      "0.8117\n",
      "CLASSIFICATION REPORT:\n",
      "                 0       1      2     3     4    5    6  accuracy  macro avg  \\\n",
      "precision     0.86    0.12   0.05  0.00  0.00 0.00 0.00      0.81       0.15   \n",
      "recall        0.93    0.06   0.03  0.00  0.00 0.00 0.00      0.81       0.15   \n",
      "f1-score      0.90    0.08   0.03  0.00  0.00 0.00 0.00      0.81       0.14   \n",
      "support   10656.00 1387.00 223.00 59.00 24.00 6.00 2.00      0.81   12357.00   \n",
      "\n",
      "           weighted avg  \n",
      "precision          0.76  \n",
      "recall             0.81  \n",
      "f1-score           0.78  \n",
      "support        12357.00  \n"
     ]
    }
   ],
   "source": [
    "from sklearn.ensemble import RandomForestClassifier\n",
    "\n",
    "rf_clf = RandomForestClassifier(random_state=42, n_estimators=1000)\n",
    "rf_clf.fit(X_train, y_train)\n",
    "evaluate(rf_clf, X_train, X_test, y_train, y_test)"
   ]
  },
  {
   "cell_type": "code",
   "execution_count": 59,
   "id": "b6fd782f",
   "metadata": {},
   "outputs": [],
   "source": [
    "scores['Random Forest'] = {\n",
    "        'Train': accuracy_score(y_train, rf_clf.predict(X_train)),\n",
    "        'Test': accuracy_score(y_test, rf_clf.predict(X_test)),\n",
    "    }"
   ]
  },
  {
   "cell_type": "code",
   "execution_count": 60,
   "id": "951c9b72",
   "metadata": {},
   "outputs": [
    {
     "name": "stdout",
     "output_type": "stream",
     "text": [
      "TRAINIG RESULTS: \n",
      "===============================\n",
      "CONFUSION MATRIX:\n",
      "[[24907     0     0     0     0     0     0     0]\n",
      " [ 3174     0     0     0     0     0     0     0]\n",
      " [  531     0     0     0     0     0     0     0]\n",
      " [  157     0     0     0     0     0     0     0]\n",
      " [   46     0     0     0     0     0     0     0]\n",
      " [   12     0     0     0     0     0     0     0]\n",
      " [    3     0     0     0     0     0     0     0]\n",
      " [    1     0     0     0     0     0     0     0]]\n",
      "ACCURACY SCORE:\n",
      "0.8639\n",
      "CLASSIFICATION REPORT:\n",
      "                 0       1      2      3     4     5    6    7  accuracy  \\\n",
      "precision     0.86    0.00   0.00   0.00  0.00  0.00 0.00 0.00      0.86   \n",
      "recall        1.00    0.00   0.00   0.00  0.00  0.00 0.00 0.00      0.86   \n",
      "f1-score      0.93    0.00   0.00   0.00  0.00  0.00 0.00 0.00      0.86   \n",
      "support   24907.00 3174.00 531.00 157.00 46.00 12.00 3.00 1.00      0.86   \n",
      "\n",
      "           macro avg  weighted avg  \n",
      "precision       0.11          0.75  \n",
      "recall          0.12          0.86  \n",
      "f1-score        0.12          0.80  \n",
      "support     28831.00      28831.00  \n",
      "TESTING RESULTS: \n",
      "===============================\n",
      "CONFUSION MATRIX:\n",
      "[[10656     0     0     0     0     0     0]\n",
      " [ 1387     0     0     0     0     0     0]\n",
      " [  223     0     0     0     0     0     0]\n",
      " [   59     0     0     0     0     0     0]\n",
      " [   24     0     0     0     0     0     0]\n",
      " [    6     0     0     0     0     0     0]\n",
      " [    2     0     0     0     0     0     0]]\n",
      "ACCURACY SCORE:\n",
      "0.8623\n",
      "CLASSIFICATION REPORT:\n",
      "                 0       1      2     3     4    5    6  accuracy  macro avg  \\\n",
      "precision     0.86    0.00   0.00  0.00  0.00 0.00 0.00      0.86       0.12   \n",
      "recall        1.00    0.00   0.00  0.00  0.00 0.00 0.00      0.86       0.14   \n",
      "f1-score      0.93    0.00   0.00  0.00  0.00 0.00 0.00      0.86       0.13   \n",
      "support   10656.00 1387.00 223.00 59.00 24.00 6.00 2.00      0.86   12357.00   \n",
      "\n",
      "           weighted avg  \n",
      "precision          0.74  \n",
      "recall             0.86  \n",
      "f1-score           0.80  \n",
      "support        12357.00  \n"
     ]
    },
    {
     "name": "stderr",
     "output_type": "stream",
     "text": [
      "C:\\Users\\Abhiruchi\\AppData\\Local\\Programs\\Python\\Python39\\lib\\site-packages\\sklearn\\metrics\\_classification.py:1318: UndefinedMetricWarning: Precision and F-score are ill-defined and being set to 0.0 in labels with no predicted samples. Use `zero_division` parameter to control this behavior.\n",
      "  _warn_prf(average, modifier, msg_start, len(result))\n",
      "C:\\Users\\Abhiruchi\\AppData\\Local\\Programs\\Python\\Python39\\lib\\site-packages\\sklearn\\metrics\\_classification.py:1318: UndefinedMetricWarning: Precision and F-score are ill-defined and being set to 0.0 in labels with no predicted samples. Use `zero_division` parameter to control this behavior.\n",
      "  _warn_prf(average, modifier, msg_start, len(result))\n",
      "C:\\Users\\Abhiruchi\\AppData\\Local\\Programs\\Python\\Python39\\lib\\site-packages\\sklearn\\metrics\\_classification.py:1318: UndefinedMetricWarning: Precision and F-score are ill-defined and being set to 0.0 in labels with no predicted samples. Use `zero_division` parameter to control this behavior.\n",
      "  _warn_prf(average, modifier, msg_start, len(result))\n",
      "C:\\Users\\Abhiruchi\\AppData\\Local\\Programs\\Python\\Python39\\lib\\site-packages\\sklearn\\metrics\\_classification.py:1318: UndefinedMetricWarning: Precision and F-score are ill-defined and being set to 0.0 in labels with no predicted samples. Use `zero_division` parameter to control this behavior.\n",
      "  _warn_prf(average, modifier, msg_start, len(result))\n",
      "C:\\Users\\Abhiruchi\\AppData\\Local\\Programs\\Python\\Python39\\lib\\site-packages\\sklearn\\metrics\\_classification.py:1318: UndefinedMetricWarning: Precision and F-score are ill-defined and being set to 0.0 in labels with no predicted samples. Use `zero_division` parameter to control this behavior.\n",
      "  _warn_prf(average, modifier, msg_start, len(result))\n",
      "C:\\Users\\Abhiruchi\\AppData\\Local\\Programs\\Python\\Python39\\lib\\site-packages\\sklearn\\metrics\\_classification.py:1318: UndefinedMetricWarning: Precision and F-score are ill-defined and being set to 0.0 in labels with no predicted samples. Use `zero_division` parameter to control this behavior.\n",
      "  _warn_prf(average, modifier, msg_start, len(result))\n"
     ]
    }
   ],
   "source": [
    "# AdaBoost\n",
    "from sklearn.ensemble import AdaBoostClassifier\n",
    "\n",
    "ada_boost_clf = AdaBoostClassifier(n_estimators=30)\n",
    "ada_boost_clf.fit(X_train, y_train)\n",
    "evaluate(ada_boost_clf, X_train, X_test, y_train, y_test)"
   ]
  },
  {
   "cell_type": "code",
   "execution_count": 61,
   "id": "3f61acaa",
   "metadata": {},
   "outputs": [],
   "source": [
    "scores['AdaBoost'] = {\n",
    "        'Train': accuracy_score(y_train, ada_boost_clf.predict(X_train)),\n",
    "        'Test': accuracy_score(y_test, ada_boost_clf.predict(X_test)),\n",
    "    }"
   ]
  },
  {
   "cell_type": "code",
   "execution_count": 62,
   "id": "309c4e46",
   "metadata": {},
   "outputs": [
    {
     "name": "stdout",
     "output_type": "stream",
     "text": [
      "TRAINIG RESULTS: \n",
      "===============================\n",
      "CONFUSION MATRIX:\n",
      "[[24881     3     1     9     3    10     0     0]\n",
      " [ 3144    25     1     4     0     0     0     0]\n",
      " [  503     2    20     6     0     0     0     0]\n",
      " [  146     0     0    11     0     0     0     0]\n",
      " [   40     0     0     0     6     0     0     0]\n",
      " [    8     0     0     0     0     4     0     0]\n",
      " [    1     0     0     0     0     0     2     0]\n",
      " [    0     0     0     0     0     0     0     1]]\n",
      "ACCURACY SCORE:\n",
      "0.8654\n",
      "CLASSIFICATION REPORT:\n",
      "                 0       1      2      3     4     5    6    7  accuracy  \\\n",
      "precision     0.87    0.83   0.91   0.37  0.67  0.29 1.00 1.00      0.87   \n",
      "recall        1.00    0.01   0.04   0.07  0.13  0.33 0.67 1.00      0.87   \n",
      "f1-score      0.93    0.02   0.07   0.12  0.22  0.31 0.80 1.00      0.87   \n",
      "support   24907.00 3174.00 531.00 157.00 46.00 12.00 3.00 1.00      0.87   \n",
      "\n",
      "           macro avg  weighted avg  \n",
      "precision       0.74          0.86  \n",
      "recall          0.41          0.87  \n",
      "f1-score        0.43          0.81  \n",
      "support     28831.00      28831.00  \n",
      "TESTING RESULTS: \n",
      "===============================\n",
      "CONFUSION MATRIX:\n",
      "[[10639     4     2     3     3     4     1]\n",
      " [ 1379     2     1     3     1     1     0]\n",
      " [  219     1     1     1     0     1     0]\n",
      " [   58     0     1     0     0     0     0]\n",
      " [   24     0     0     0     0     0     0]\n",
      " [    6     0     0     0     0     0     0]\n",
      " [    2     0     0     0     0     0     0]]\n",
      "ACCURACY SCORE:\n",
      "0.8612\n",
      "CLASSIFICATION REPORT:\n",
      "                 0       1      2     3     4    5    6  accuracy  macro avg  \\\n",
      "precision     0.86    0.29   0.20  0.00  0.00 0.00 0.00      0.86       0.19   \n",
      "recall        1.00    0.00   0.00  0.00  0.00 0.00 0.00      0.86       0.14   \n",
      "f1-score      0.93    0.00   0.01  0.00  0.00 0.00 0.00      0.86       0.13   \n",
      "support   10656.00 1387.00 223.00 59.00 24.00 6.00 2.00      0.86   12357.00   \n",
      "\n",
      "           weighted avg  \n",
      "precision          0.78  \n",
      "recall             0.86  \n",
      "f1-score           0.80  \n",
      "support        12357.00  \n"
     ]
    }
   ],
   "source": [
    "# Stochastic Gradient Boosting\n",
    "from sklearn.ensemble import GradientBoostingClassifier\n",
    "\n",
    "grad_boost_clf = GradientBoostingClassifier(n_estimators=100, random_state=42)\n",
    "grad_boost_clf.fit(X_train, y_train)\n",
    "evaluate(grad_boost_clf, X_train, X_test, y_train, y_test)"
   ]
  },
  {
   "cell_type": "code",
   "execution_count": 63,
   "id": "47483b04",
   "metadata": {},
   "outputs": [],
   "source": [
    "scores['Gradient Boosting'] = {\n",
    "        'Train': accuracy_score(y_train, grad_boost_clf.predict(X_train)),\n",
    "        'Test': accuracy_score(y_test, grad_boost_clf.predict(X_test)),\n",
    "    }"
   ]
  },
  {
   "cell_type": "code",
   "execution_count": 64,
   "id": "52896083",
   "metadata": {},
   "outputs": [
    {
     "name": "stdout",
     "output_type": "stream",
     "text": [
      "TRAINIG RESULTS: \n",
      "===============================\n",
      "CONFUSION MATRIX:\n",
      "[[24907     0     0     0     0     0     0     0]\n",
      " [ 3174     0     0     0     0     0     0     0]\n",
      " [  531     0     0     0     0     0     0     0]\n",
      " [  157     0     0     0     0     0     0     0]\n",
      " [   46     0     0     0     0     0     0     0]\n",
      " [   12     0     0     0     0     0     0     0]\n",
      " [    3     0     0     0     0     0     0     0]\n",
      " [    1     0     0     0     0     0     0     0]]\n",
      "ACCURACY SCORE:\n",
      "0.8639\n",
      "CLASSIFICATION REPORT:\n",
      "                 0       1      2      3     4     5    6    7  accuracy  \\\n",
      "precision     0.86    0.00   0.00   0.00  0.00  0.00 0.00 0.00      0.86   \n",
      "recall        1.00    0.00   0.00   0.00  0.00  0.00 0.00 0.00      0.86   \n",
      "f1-score      0.93    0.00   0.00   0.00  0.00  0.00 0.00 0.00      0.86   \n",
      "support   24907.00 3174.00 531.00 157.00 46.00 12.00 3.00 1.00      0.86   \n",
      "\n",
      "           macro avg  weighted avg  \n",
      "precision       0.11          0.75  \n",
      "recall          0.12          0.86  \n",
      "f1-score        0.12          0.80  \n",
      "support     28831.00      28831.00  \n",
      "TESTING RESULTS: \n",
      "===============================\n",
      "CONFUSION MATRIX:\n",
      "[[10656     0     0     0     0     0     0]\n",
      " [ 1387     0     0     0     0     0     0]\n",
      " [  223     0     0     0     0     0     0]\n",
      " [   59     0     0     0     0     0     0]\n",
      " [   24     0     0     0     0     0     0]\n",
      " [    6     0     0     0     0     0     0]\n",
      " [    2     0     0     0     0     0     0]]\n",
      "ACCURACY SCORE:\n",
      "0.8623\n",
      "CLASSIFICATION REPORT:\n",
      "                 0       1      2     3     4    5    6  accuracy  macro avg  \\\n",
      "precision     0.86    0.00   0.00  0.00  0.00 0.00 0.00      0.86       0.12   \n",
      "recall        1.00    0.00   0.00  0.00  0.00 0.00 0.00      0.86       0.14   \n",
      "f1-score      0.93    0.00   0.00  0.00  0.00 0.00 0.00      0.86       0.13   \n",
      "support   10656.00 1387.00 223.00 59.00 24.00 6.00 2.00      0.86   12357.00   \n",
      "\n",
      "           weighted avg  \n",
      "precision          0.74  \n",
      "recall             0.86  \n",
      "f1-score           0.80  \n",
      "support        12357.00  \n"
     ]
    },
    {
     "name": "stderr",
     "output_type": "stream",
     "text": [
      "C:\\Users\\Abhiruchi\\AppData\\Local\\Programs\\Python\\Python39\\lib\\site-packages\\sklearn\\metrics\\_classification.py:1318: UndefinedMetricWarning: Precision and F-score are ill-defined and being set to 0.0 in labels with no predicted samples. Use `zero_division` parameter to control this behavior.\n",
      "  _warn_prf(average, modifier, msg_start, len(result))\n",
      "C:\\Users\\Abhiruchi\\AppData\\Local\\Programs\\Python\\Python39\\lib\\site-packages\\sklearn\\metrics\\_classification.py:1318: UndefinedMetricWarning: Precision and F-score are ill-defined and being set to 0.0 in labels with no predicted samples. Use `zero_division` parameter to control this behavior.\n",
      "  _warn_prf(average, modifier, msg_start, len(result))\n",
      "C:\\Users\\Abhiruchi\\AppData\\Local\\Programs\\Python\\Python39\\lib\\site-packages\\sklearn\\metrics\\_classification.py:1318: UndefinedMetricWarning: Precision and F-score are ill-defined and being set to 0.0 in labels with no predicted samples. Use `zero_division` parameter to control this behavior.\n",
      "  _warn_prf(average, modifier, msg_start, len(result))\n",
      "C:\\Users\\Abhiruchi\\AppData\\Local\\Programs\\Python\\Python39\\lib\\site-packages\\sklearn\\metrics\\_classification.py:1318: UndefinedMetricWarning: Precision and F-score are ill-defined and being set to 0.0 in labels with no predicted samples. Use `zero_division` parameter to control this behavior.\n",
      "  _warn_prf(average, modifier, msg_start, len(result))\n",
      "C:\\Users\\Abhiruchi\\AppData\\Local\\Programs\\Python\\Python39\\lib\\site-packages\\sklearn\\metrics\\_classification.py:1318: UndefinedMetricWarning: Precision and F-score are ill-defined and being set to 0.0 in labels with no predicted samples. Use `zero_division` parameter to control this behavior.\n",
      "  _warn_prf(average, modifier, msg_start, len(result))\n",
      "C:\\Users\\Abhiruchi\\AppData\\Local\\Programs\\Python\\Python39\\lib\\site-packages\\sklearn\\metrics\\_classification.py:1318: UndefinedMetricWarning: Precision and F-score are ill-defined and being set to 0.0 in labels with no predicted samples. Use `zero_division` parameter to control this behavior.\n",
      "  _warn_prf(average, modifier, msg_start, len(result))\n"
     ]
    }
   ],
   "source": [
    "from sklearn.ensemble import VotingClassifier\n",
    "from sklearn.linear_model import LogisticRegression\n",
    "from sklearn.svm import SVC\n",
    "\n",
    "estimators = []\n",
    "log_reg = LogisticRegression(solver='liblinear')\n",
    "estimators.append(('Logistic', log_reg))\n",
    "\n",
    "tree = DecisionTreeClassifier()\n",
    "estimators.append(('Tree', tree))\n",
    "\n",
    "svm_clf = SVC(gamma='scale')\n",
    "estimators.append(('SVM', svm_clf))\n",
    "\n",
    "voting = VotingClassifier(estimators=estimators)\n",
    "voting.fit(X_train, y_train)\n",
    "\n",
    "evaluate(voting, X_train, X_test, y_train, y_test)"
   ]
  },
  {
   "cell_type": "code",
   "execution_count": 65,
   "id": "99d7ff9f",
   "metadata": {},
   "outputs": [],
   "source": [
    "scores['Voting'] = {\n",
    "        'Train': accuracy_score(y_train, voting.predict(X_train)),\n",
    "        'Test': accuracy_score(y_test, voting.predict(X_test)),\n",
    "    }"
   ]
  },
  {
   "cell_type": "code",
   "execution_count": 66,
   "id": "4b2f0db5",
   "metadata": {},
   "outputs": [
    {
     "data": {
      "text/plain": [
       "<AxesSubplot:>"
      ]
     },
     "execution_count": 66,
     "metadata": {},
     "output_type": "execute_result"
    },
    {
     "data": {
      "image/png": "[encoded data removed]",
      "text/plain": [
       "<Figure size 1080x576 with 1 Axes>"
      ]
     },
     "metadata": {},
     "output_type": "display_data"
    }
   ],
   "source": [
    "scores_df = pd.DataFrame(scores)\n",
    "\n",
    "scores_df.plot(kind='barh', figsize=(15, 8))"
   ]
  },
  {
   "cell_type": "code",
   "execution_count": null,
   "id": "7129fb84",
   "metadata": {},
   "outputs": [],
   "source": [
    "#https://www.kaggle.com/code/faressayah/ensemble-ml-algorithms-bagging-boosting-voting/notebook"
   ]
  }
 ],
 "metadata": {
  "kernelspec": {
   "display_name": "Python 3 (ipykernel)",
   "language": "python",
   "name": "python3"
  },
  "language_info": {
   "codemirror_mode": {
    "name": "ipython",
    "version": 3
   },
   "file_extension": ".py",
   "mimetype": "text/x-python",
   "name": "python",
   "nbconvert_exporter": "python",
   "pygments_lexer": "ipython3",
   "version": "3.9.7"
  }
 },
 "nbformat": 4,
 "nbformat_minor": 5
}
